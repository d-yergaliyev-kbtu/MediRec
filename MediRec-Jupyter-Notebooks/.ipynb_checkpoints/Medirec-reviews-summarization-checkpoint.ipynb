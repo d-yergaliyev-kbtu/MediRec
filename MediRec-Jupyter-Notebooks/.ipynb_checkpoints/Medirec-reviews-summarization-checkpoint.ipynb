{
 "cells": [
  {
   "cell_type": "code",
   "execution_count": 1,
   "id": "4b51e3fe-e928-4988-8a54-1014d2476587",
   "metadata": {},
   "outputs": [],
   "source": [
    "import pandas as pd\n",
    "import nltk\n",
    "from sqlalchemy import create_engine\n",
    "from nltk.tokenize import sent_tokenize\n",
    "from nltk.corpus import stopwords\n",
    "from nltk.probability import FreqDist\n",
    "from nltk.sentiment import SentimentIntensityAnalyzer"
   ]
  },
  {
   "cell_type": "code",
   "execution_count": 2,
   "id": "b1ed13d5-d67e-4ee4-b825-debc83320325",
   "metadata": {},
   "outputs": [],
   "source": [
    "db_connection_string = \"postgresql+psycopg2://dauren:_!C#cv+3=aY:EDT@medirec-postgresql.postgres.database.azure.com:5432/postgres\"\n",
    "\n",
    "engine = create_engine(db_connection_string)"
   ]
  },
  {
   "cell_type": "code",
   "execution_count": 3,
   "id": "5ddd2b28-bf13-49c9-969c-190aa8c4ebc8",
   "metadata": {},
   "outputs": [],
   "source": [
    "def summarize_reviews(reviews_df):\n",
    "    sia = SentimentIntensityAnalyzer()\n",
    "    combined_text = \" \".join(reviews_df['Review'].values)\n",
    "    sentences = sent_tokenize(combined_text)\n",
    "    stop_words = set(stopwords.words('english'))\n",
    "    words = [word for sentence in sentences for word in sentence.split() if word.lower() not in stop_words]\n",
    "\n",
    "    sentiments = [sia.polarity_scores(sentence) for sentence in sentences]\n",
    "    avg_sentiment = {\n",
    "        'pos': sum(s['pos'] for s in sentiments) / len(sentiments),\n",
    "        'neu': sum(s['neu'] for s in sentiments) / len(sentiments),\n",
    "        'neg': sum(s['neg'] for s in sentiments),\n",
    "    }\n",
    "\n",
    "    fdist = FreqDist(words)\n",
    "    keywords = \", \".join([word for word, freq in fdist.most_common(10)])\n",
    "\n",
    "    sentiment_summary = (\n",
    "        f\"People mostly describe the experience as {'positive' if avg_sentiment['pos'] > avg_sentiment['neg'] else 'negative'}. \"\n",
    "        f\"Commonly mentioned words include: {keywords}.\"\n",
    "    )\n",
    "    return sentiment_summary"
   ]
  },
  {
   "cell_type": "markdown",
   "id": "78caab3b-3fe0-492c-bb7c-093255e801ab",
   "metadata": {},
   "source": [
    "# Jupyter Kernel Gateway Endpoints"
   ]
  },
  {
   "cell_type": "markdown",
   "id": "96741873-ff38-4ff4-a558-7642d5dde0ea",
   "metadata": {},
   "source": [
    "--KernelGatewayApp.allow_origin='*' --KernelGatewayApp.ip='0.0.0.0' --KernelGatewayApp.allow_headers='*' --KernelGatewayApp.allow_credentials=True --KernelGatewayApp.port=8888"
   ]
  },
  {
   "cell_type": "code",
   "execution_count": 4,
   "id": "78e345ca-18c2-448c-99a0-94f892c62f21",
   "metadata": {},
   "outputs": [
    {
     "ename": "NameError",
     "evalue": "name 'REQUEST' is not defined",
     "output_type": "error",
     "traceback": [
      "\u001b[1;31m---------------------------------------------------------------------------\u001b[0m",
      "\u001b[1;31mNameError\u001b[0m                                 Traceback (most recent call last)",
      "Cell \u001b[1;32mIn[4], line 5\u001b[0m\n\u001b[0;32m      1\u001b[0m \u001b[38;5;66;03m# GET /summarize_reviews/:drugId\u001b[39;00m\n\u001b[0;32m      3\u001b[0m \u001b[38;5;28;01mimport\u001b[39;00m \u001b[38;5;21;01mjson\u001b[39;00m\n\u001b[1;32m----> 5\u001b[0m req \u001b[38;5;241m=\u001b[39m json\u001b[38;5;241m.\u001b[39mloads(\u001b[43mREQUEST\u001b[49m)\n\u001b[0;32m      6\u001b[0m path_params \u001b[38;5;241m=\u001b[39m req[\u001b[38;5;124m\"\u001b[39m\u001b[38;5;124mpath\u001b[39m\u001b[38;5;124m\"\u001b[39m]\n\u001b[0;32m      7\u001b[0m drug_id \u001b[38;5;241m=\u001b[39m path_params[\u001b[38;5;124m\"\u001b[39m\u001b[38;5;124mdrugId\u001b[39m\u001b[38;5;124m\"\u001b[39m]\n",
      "\u001b[1;31mNameError\u001b[0m: name 'REQUEST' is not defined"
     ]
    }
   ],
   "source": [
    "# GET /summarize_reviews/:drugId\n",
    "\n",
    "import json\n",
    "\n",
    "req = json.loads(REQUEST)\n",
    "path_params = req[\"path\"]\n",
    "drug_id = path_params[\"drugId\"]\n",
    "\n",
    "query = f\"\"\"\n",
    "    SELECT \"Review\", \"Rating\"\n",
    "    FROM \"DrugReviews\"\n",
    "    WHERE \"DrugId\" = '{drug_id}'\n",
    "    \"\"\"\n",
    "reviews_df = pd.read_sql(query, engine)\n",
    "\n",
    "summary = summarize_reviews(reviews_df)\n",
    "\n",
    "response = {\n",
    "    \"summary\": summary\n",
    "}\n",
    "\n",
    "print(json.dumps(response))"
   ]
  }
 ],
 "metadata": {
  "kernelspec": {
   "display_name": "Python 3 (ipykernel)",
   "language": "python",
   "name": "python3"
  },
  "language_info": {
   "codemirror_mode": {
    "name": "ipython",
    "version": 3
   },
   "file_extension": ".py",
   "mimetype": "text/x-python",
   "name": "python",
   "nbconvert_exporter": "python",
   "pygments_lexer": "ipython3",
   "version": "3.12.6"
  }
 },
 "nbformat": 4,
 "nbformat_minor": 5
}
